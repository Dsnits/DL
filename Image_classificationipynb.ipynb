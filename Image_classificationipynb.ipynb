{
  "nbformat": 4,
  "nbformat_minor": 0,
  "metadata": {
    "colab": {
      "private_outputs": true,
      "provenance": []
    },
    "kernelspec": {
      "name": "python3",
      "display_name": "Python 3"
    },
    "language_info": {
      "name": "python"
    }
  },
  "cells": [
    {
      "cell_type": "code",
      "execution_count": null,
      "metadata": {
        "id": "W1ODqMlylIgt"
      },
      "outputs": [],
      "source": [
        "!mkdir ~p/ .kaggle\n",
        "!cp kaggle.json ~/ .kaggle/"
      ]
    },
    {
      "cell_type": "markdown",
      "source": [
        "DESCRIPTION_ PROJECT ON IMAGE CLASSIFICATION\n",
        "USING CNN WITH MAX POLLING\n",
        "\n",
        "Deepak Kumar"
      ],
      "metadata": {
        "id": "daCMAXeT_OzX"
      }
    },
    {
      "cell_type": "code",
      "source": [
        "!kaggle datasets download -d salader/dogs-vs-cats"
      ],
      "metadata": {
        "id": "1Ar1vQqMshUI"
      },
      "execution_count": null,
      "outputs": []
    },
    {
      "cell_type": "code",
      "source": [
        "import zipfile\n",
        "\n",
        "zip_ref = zipfile.ZipFile('/content/dogs-vs-cats.zip', 'r')\n",
        "\n",
        "zip_ref.extractall('/content')\n",
        "\n",
        "zip_ref.close()"
      ],
      "metadata": {
        "id": "CDbcDenQtA-W"
      },
      "execution_count": null,
      "outputs": []
    },
    {
      "cell_type": "code",
      "source": [],
      "metadata": {
        "id": "mdEOdH2i_hff"
      },
      "execution_count": null,
      "outputs": []
    },
    {
      "cell_type": "code",
      "source": [
        "import tensorflow as tf\n",
        "\n",
        "from tensorflow import keras\n",
        "\n",
        "from keras import Sequential\n",
        "\n",
        "from keras.layers import Dense, Conv2D, MaxPooling2D, Flatten,BatchNormalization,Dropout"
      ],
      "metadata": {
        "id": "OJm8vPNExWkV"
      },
      "execution_count": null,
      "outputs": []
    },
    {
      "cell_type": "code",
      "source": [
        "train_ds = keras.utils.image_dataset_from_directory(\n",
        "\n",
        "directory = '/content/train',\n",
        "\n",
        "labels='inferred',\n",
        "\n",
        "label_mode = 'int',\n",
        "\n",
        "batch_size=32,\n",
        "\n",
        "image_size=(256,256)\n",
        "\n",
        ")\n",
        "\n",
        "validation_ds = keras.utils.image_dataset_from_directory(\n",
        "\n",
        "directory = '/content/test',\n",
        "\n",
        "labels='inferred',\n",
        "\n",
        "label_mode = 'int',\n",
        "\n",
        "batch_size=32,\n",
        "\n",
        "image_size=(256,256) )"
      ],
      "metadata": {
        "id": "Db-HNrO5xig2"
      },
      "execution_count": null,
      "outputs": []
    },
    {
      "cell_type": "code",
      "source": [
        "def process(image, label):\n",
        "  image = tf.cast(image/255. ,tf.float32)\n",
        "  return image, label\n",
        "\n",
        "train_ds = train_ds.map(process)\n",
        "\n",
        "validation_ds = validation_ds.map(process)\n",
        "\n"
      ],
      "metadata": {
        "id": "OAFafW4RyPmr"
      },
      "execution_count": null,
      "outputs": []
    },
    {
      "cell_type": "code",
      "source": [
        "\n",
        "model=Sequential()\n",
        "model.add(Conv2D(32, kernel_size=(3,3), padding='valid', activation='relu', input_shape=(256,256,3)))\n",
        "model.add(MaxPooling2D (pool_size=(2,2), strides=2, padding='valid'))\n",
        "\n",
        "model.add(Conv2D(64, kernel_size=(3,3), padding='valid', activation='relu'))\n",
        "model.add(BatchNormalization())\n",
        "model.add(MaxPooling2D (pool_size=(2,2), strides=2, padding='valid'))\n",
        "\n",
        "model.add(Conv2D(128, kernel_size=(3,3), padding='valid', activation='relu'))\n",
        "model.add(BatchNormalization())\n",
        "model.add(MaxPooling2D (pool_size=(2,2), strides=2, padding='valid'))\n",
        "\n",
        "model.add(Flatten())\n",
        "\n",
        "model.add(Dense (128, activation='relu'))\n",
        "model.add(Dropout(0.1))\n",
        "model.add(Dense (64, activation='relu'))\n",
        "model.add(Dropout(0.1))\n",
        "model.add(Dense (1, activation='sigmoid'))\n",
        "model.add(Dropout(0.1))"
      ],
      "metadata": {
        "id": "ADvKdFj2zO5v"
      },
      "execution_count": null,
      "outputs": []
    },
    {
      "cell_type": "code",
      "source": [
        "model.summary()"
      ],
      "metadata": {
        "id": "ocoZCl3YyytB"
      },
      "execution_count": null,
      "outputs": []
    },
    {
      "cell_type": "code",
      "source": [
        "model.compile(optimizer='adam', loss='binary_crossentropy', metrics=['accuracy'])\n",
        "history=model.fit(train_ds, epochs=10, validation_data=validation_ds)"
      ],
      "metadata": {
        "id": "CLMyRCVb3tn3"
      },
      "execution_count": null,
      "outputs": []
    },
    {
      "cell_type": "code",
      "source": [
        "import matplotlib.pyplot as plt\n",
        "\n",
        "plt.plot(history.history['accuracy'], color='red', label='train')\n",
        "\n",
        "plt.plot(history.history['val_accuracy'], color='blue', label='validation')\n",
        "\n",
        "plt.legend()\n",
        "\n",
        "plt.show()"
      ],
      "metadata": {
        "id": "5yLQPTNL_jwT"
      },
      "execution_count": null,
      "outputs": []
    },
    {
      "cell_type": "code",
      "source": [
        "plt.plot(history.history['accuracy'], color='red', label='train')\n",
        "\n",
        "plt.plot(history.history['val_accuracy'], color='blue', label='validation')\n",
        "\n",
        "plt.legend()\n",
        "\n",
        "plt.show()"
      ],
      "metadata": {
        "id": "HP-fuFnkAENF"
      },
      "execution_count": null,
      "outputs": []
    }
  ]
}